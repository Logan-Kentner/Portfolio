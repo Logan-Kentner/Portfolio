{
 "cells": [
  {
   "cell_type": "markdown",
   "id": "96674fe8",
   "metadata": {},
   "source": [
    "FINAL PROJECT CODE"
   ]
  },
  {
   "cell_type": "markdown",
   "id": "064b2260",
   "metadata": {},
   "source": [
    "IMPORTS AND DIRECTORY"
   ]
  },
  {
   "cell_type": "code",
   "execution_count": 1,
   "id": "fddb6120",
   "metadata": {},
   "outputs": [],
   "source": [
    "import os\n",
    "import numpy as np\n",
    "import pandas as pd\n",
    "import seaborn as sns\n",
    "import matplotlib.pyplot as plt\n",
    "import plotly.express as px\n",
    "\n",
    "import sklearn as sk\n",
    "\n",
    "from datetime import datetime\n",
    "from sklearn.decomposition import PCA, KernelPCA, TruncatedSVD\n",
    "from sklearn.manifold import Isomap, TSNE\n",
    "from sklearn.preprocessing import MinMaxScaler, StandardScaler, RobustScaler, LabelEncoder\n",
    "\n",
    "from numpy.random import seed\n",
    "from mpl_toolkits.mplot3d import Axes3D\n",
    "\n",
    "import tensorflow as tf            # main ANN librray\n",
    "from tensorflow import keras\n",
    "from tensorflow import random\n",
    "from tensorflow.keras import layers\n",
    "from keras.models import Sequential\n",
    "#from keras.utils.vis_utils import plot_model\n",
    "from sklearn.preprocessing import StandardScaler, MinMaxScaler\n",
    "from tensorflow.keras.layers.experimental import preprocessing\n",
    "\n",
    "\n",
    "from sklearn.preprocessing import StandardScaler\n",
    "from sklearn.model_selection import train_test_split\n",
    "from sklearn.neighbors import KNeighborsClassifier\n",
    "from sklearn.neighbors import KNeighborsRegressor\n",
    "from sklearn.pipeline import Pipeline\n",
    "from sklearn.metrics import confusion_matrix, accuracy_score\n",
    "from sklearn.metrics import classification_report\n",
    "from sklearn.metrics import mean_squared_error \n",
    "from mlxtend.plotting import plot_decision_regions"
   ]
  },
  {
   "cell_type": "code",
   "execution_count": 2,
   "id": "15227bf4",
   "metadata": {},
   "outputs": [
    {
     "ename": "FileNotFoundError",
     "evalue": "[WinError 3] The system cannot find the path specified: 'C:\\\\Users\\\\Owner\\\\Documents\\\\DSC 325\\\\Final Project'",
     "output_type": "error",
     "traceback": [
      "\u001b[1;31m---------------------------------------------------------------------------\u001b[0m",
      "\u001b[1;31mFileNotFoundError\u001b[0m                         Traceback (most recent call last)",
      "Cell \u001b[1;32mIn[2], line 1\u001b[0m\n\u001b[1;32m----> 1\u001b[0m os\u001b[38;5;241m.\u001b[39mchdir(\u001b[38;5;124m'\u001b[39m\u001b[38;5;124mC:\u001b[39m\u001b[38;5;130;01m\\\\\u001b[39;00m\u001b[38;5;124mUsers\u001b[39m\u001b[38;5;130;01m\\\\\u001b[39;00m\u001b[38;5;124mOwner\u001b[39m\u001b[38;5;130;01m\\\\\u001b[39;00m\u001b[38;5;124mDocuments\u001b[39m\u001b[38;5;130;01m\\\\\u001b[39;00m\u001b[38;5;124mDSC 325\u001b[39m\u001b[38;5;130;01m\\\\\u001b[39;00m\u001b[38;5;124mFinal Project\u001b[39m\u001b[38;5;124m'\u001b[39m)\n",
      "\u001b[1;31mFileNotFoundError\u001b[0m: [WinError 3] The system cannot find the path specified: 'C:\\\\Users\\\\Owner\\\\Documents\\\\DSC 325\\\\Final Project'"
     ]
    }
   ],
   "source": [
    "os.chdir('C:\\\\Users\\\\Owner\\\\Documents\\\\DSC 325\\\\Final Project')"
   ]
  },
  {
   "cell_type": "markdown",
   "id": "1c4cef32",
   "metadata": {},
   "source": [
    "DATA CLEANING"
   ]
  },
  {
   "cell_type": "code",
   "execution_count": null,
   "id": "1787d4d9",
   "metadata": {},
   "outputs": [],
   "source": [
    "# Loading data\n",
    "df = pd.read_csv('FINALPROJECT.csv')\n",
    "print('Shape of DF:', df.shape)\n",
    "df.tail(4)"
   ]
  },
  {
   "cell_type": "code",
   "execution_count": null,
   "id": "0a076013",
   "metadata": {},
   "outputs": [],
   "source": [
    "#Drop null values\n",
    "df = df.dropna()\n",
    "print('Shape of DF:', df.shape)"
   ]
  },
  {
   "cell_type": "code",
   "execution_count": null,
   "id": "f90ca40c",
   "metadata": {},
   "outputs": [],
   "source": [
    "df.info()"
   ]
  },
  {
   "cell_type": "code",
   "execution_count": null,
   "id": "78a546c3",
   "metadata": {},
   "outputs": [],
   "source": [
    "df[\"nameOrig\"] = df[\"nameOrig\"].astype('category')\n",
    "df[\"type\"] = df[\"type\"].astype('category')\n",
    "df[\"nameDest\"] = df[\"nameDest\"].astype('category')\n",
    "df.info()"
   ]
  },
  {
   "cell_type": "code",
   "execution_count": null,
   "id": "695713bd",
   "metadata": {
    "scrolled": false
   },
   "outputs": [],
   "source": [
    "df.drop_duplicates(subset=None, keep=\"first\", inplace=True)\n",
    "df.info()"
   ]
  },
  {
   "cell_type": "code",
   "execution_count": null,
   "id": "7a860bd6",
   "metadata": {
    "scrolled": false
   },
   "outputs": [],
   "source": [
    "p1 = df[df['isFraud'] == 1]\n",
    "p1sps=p1.groupby('isFraud').apply(lambda x: x.sample(frac=0.87565674))\n",
    "p2 = df[df['isFraud'] == 0]\n",
    "p2sps=p2.groupby('isFraud').apply(lambda x: x.sample(frac=0.00095472))\n",
    "df_mod = pd.concat([p1sps, p2sps], axis=0)\n",
    "df_mod"
   ]
  },
  {
   "cell_type": "code",
   "execution_count": null,
   "id": "a0a828fa",
   "metadata": {},
   "outputs": [],
   "source": []
  },
  {
   "cell_type": "markdown",
   "id": "0a606f4d",
   "metadata": {},
   "source": [
    "EDA"
   ]
  },
  {
   "cell_type": "code",
   "execution_count": null,
   "id": "08e3d063",
   "metadata": {},
   "outputs": [],
   "source": [
    "srs = df.sample(frac=0.01, random_state=123)"
   ]
  },
  {
   "cell_type": "code",
   "execution_count": null,
   "id": "adb8cdad",
   "metadata": {
    "scrolled": true
   },
   "outputs": [],
   "source": [
    "srs"
   ]
  },
  {
   "cell_type": "code",
   "execution_count": null,
   "id": "de0c5ec6",
   "metadata": {},
   "outputs": [],
   "source": [
    "#EDA of Response isFraud\n",
    "tb1 = df['isFraud'].value_counts() # value count\n",
    "print(tb1) # freq table\n",
    "print(tb1/sum(tb1)) # perc table\n"
   ]
  },
  {
   "cell_type": "code",
   "execution_count": null,
   "id": "0fbb75f1",
   "metadata": {},
   "outputs": [],
   "source": [
    "tb2 = df_mod['isFraud'].value_counts() # value count\n",
    "print(tb2) # freq table\n",
    "print(tb2/sum(tb2)) # perc table\n"
   ]
  },
  {
   "cell_type": "code",
   "execution_count": null,
   "id": "bf906ad2",
   "metadata": {
    "scrolled": false
   },
   "outputs": [],
   "source": [
    "amnt= sns.boxplot(y=\"amount\", x= \"isFraud\" ,  data=df_mod)\n",
    "amnt.set(xlabel='Is Fraud', ylabel='Amount transferred (hundred-thousands)')\n"
   ]
  },
  {
   "cell_type": "code",
   "execution_count": null,
   "id": "737e1257",
   "metadata": {
    "scrolled": false
   },
   "outputs": [],
   "source": [
    "OldBal = sns.boxplot(y=\"oldbalanceDest\", x= \"isFraud\", data=df_mod)\n",
    "OldBal.set(xlabel='Is Fraud', ylabel='Beginning Balance of the Destination account')\n"
   ]
  },
  {
   "cell_type": "code",
   "execution_count": null,
   "id": "98559b7a",
   "metadata": {
    "scrolled": true
   },
   "outputs": [],
   "source": [
    "NewBal = sns.boxplot(y=\"newbalanceOrig\", x= \"isFraud\", data=df_mod)\n",
    "NewBal.set(xlabel='Is Fraud', ylabel='Ending Balance of the Origin account')\n"
   ]
  },
  {
   "cell_type": "code",
   "execution_count": null,
   "id": "e0c9471d",
   "metadata": {},
   "outputs": [],
   "source": [
    "df.groupby('isFraud')['oldbalanceDest'].median()"
   ]
  },
  {
   "cell_type": "code",
   "execution_count": null,
   "id": "795d180a",
   "metadata": {},
   "outputs": [],
   "source": [
    "df.groupby('isFraud')['newbalanceDest'].median()"
   ]
  },
  {
   "cell_type": "code",
   "execution_count": null,
   "id": "6f9dc7e1",
   "metadata": {},
   "outputs": [],
   "source": [
    "df.groupby('isFraud')['amount'].median()"
   ]
  },
  {
   "cell_type": "code",
   "execution_count": null,
   "id": "70bb691a",
   "metadata": {},
   "outputs": [],
   "source": [
    "df.groupby('isFraud')['oldbalanceOrg'].median()"
   ]
  },
  {
   "cell_type": "code",
   "execution_count": null,
   "id": "6c008472",
   "metadata": {},
   "outputs": [],
   "source": [
    "df.groupby('isFraud')['newbalanceOrig'].median()"
   ]
  },
  {
   "cell_type": "code",
   "execution_count": null,
   "id": "3c262638",
   "metadata": {},
   "outputs": [],
   "source": [
    " sns.boxplot(y=\"oldbalanceOrg\", x= \"isFraud\", data=data_mod)"
   ]
  },
  {
   "cell_type": "code",
   "execution_count": null,
   "id": "273b5468",
   "metadata": {
    "scrolled": true
   },
   "outputs": [],
   "source": [
    "#Crosstable \n",
    "tb = df_mod['type'].value_counts(sort=True, normalize=False)\n",
    "print(tb)                          \n",
    "print(tb/sum(tb))                  \n",
    "pd.crosstab(index=df_mod['type'], columns=df_mod['isFraud'])        "
   ]
  },
  {
   "cell_type": "code",
   "execution_count": null,
   "id": "c8020eda",
   "metadata": {
    "scrolled": false
   },
   "outputs": [],
   "source": [
    "X = df_mod[[\"amount\",\"oldbalanceOrg\", \"newbalanceOrig\",\"oldbalanceDest\"]]\n",
    "y = df_mod[\"isFraud\"]\n",
    "X_train, X_test, y_train, y_test = train_test_split(X, y, train_size=0.75, stratify=y, random_state=0)\n",
    "print('Train, Test set shape:', X_train.shape, y_train.shape, X_test.shape, y_test.shape)"
   ]
  },
  {
   "cell_type": "code",
   "execution_count": null,
   "id": "3d8ddcfd",
   "metadata": {},
   "outputs": [],
   "source": [
    "# Scaling predictors\n",
    "\n",
    "sc = StandardScaler()\n",
    "sc.fit(X_train)\n",
    "X_train_std = sc.transform(X_train)\n",
    "X_test_std = sc.transform(X_test)"
   ]
  },
  {
   "cell_type": "code",
   "execution_count": null,
   "id": "617d7af8",
   "metadata": {},
   "outputs": [],
   "source": [
    "# ANN model structure \n",
    "# units: number of units in hidden layer\n",
    "# input_shape: shape of the input var(s)\n",
    "\n",
    "model = Sequential()\n",
    "model.add(layers.Dense(units=6, activation=\"relu\"))\n",
    "model.add(layers.Dense(units=6, activation=\"relu\"))\n",
    "model.add(layers.Dense(units=1, activation=\"sigmoid\"))\n"
   ]
  },
  {
   "cell_type": "code",
   "execution_count": null,
   "id": "d3159768",
   "metadata": {
    "scrolled": true
   },
   "outputs": [],
   "source": [
    "%%time\n",
    "# model compile, fit, 17.9 seconds for 100 epochs on CPU for 1 x 2 x 1 ANN\n",
    "# loss function options: binary_crossentropy\n",
    "# optimizer: adam is an extension to stochastic gradient descent\n",
    "# metrics: accuracy \n",
    "\n",
    "model.compile(loss=\"binary_crossentropy\", optimizer='adam', metrics=[\"accuracy\"])\n",
    "\n",
    "history = model.fit(\n",
    "    X_train_std, y_train,           # scaled train predictor, train response\n",
    "    epochs = 100,                  # total no. of feeding the entire training data into network\n",
    "    verbose = 0,                    # 0: no show, 1: details, 2: summary\n",
    "    batch_size = 16,                # cases are fed in batches of batch_size\n",
    "    validation_split = 0.1)         # % of train set used for perfromance evaluation"
   ]
  },
  {
   "cell_type": "code",
   "execution_count": null,
   "id": "665132ef",
   "metadata": {
    "scrolled": false
   },
   "outputs": [],
   "source": [
    "# Defining a function for plotting accuracy in train & validation sets\n",
    "\n",
    "def plot_loss(history):\n",
    "    plt.plot(history.history['accuracy'], label='accuracy')\n",
    "    plt.plot(history.history['val_accuracy'], label='val_accuracy')\n",
    "    plt.xlabel('Epoch')\n",
    "    plt.ylabel('Accuracy')\n",
    "    plt.legend()\n",
    "    plt.grid(True)\n",
    "    plt.show()\n",
    "\n",
    "plot_loss(history)"
   ]
  },
  {
   "cell_type": "code",
   "execution_count": null,
   "id": "3409e993",
   "metadata": {
    "scrolled": true
   },
   "outputs": [],
   "source": [
    "# printing model performance on train & validation, test set\n",
    "\n",
    "print('Train accuracy on last epoch:', history.history['accuracy'][-1])             # last accuracy on tarin set\n",
    "print('Validation accuracy on last epoch:', history.history['val_accuracy'][-1])    # last accuracy on validation set\n",
    "print('Test accuracy:', model.evaluate(X_test_std, y_test, verbose=0))         # accuracy on test set"
   ]
  },
  {
   "cell_type": "code",
   "execution_count": null,
   "id": "a546cc29",
   "metadata": {
    "scrolled": true
   },
   "outputs": [],
   "source": [
    "print(model.predict(sc.transform([[181, 181, 0, 21282, 0]])) > 0.5)\n"
   ]
  },
  {
   "cell_type": "code",
   "execution_count": null,
   "id": "81e7087a",
   "metadata": {
    "scrolled": false
   },
   "outputs": [],
   "source": [
    "#prediction with median values when isFraud = 1\n",
    "print(model.predict(sc.transform([[353179.45,348705.145,0,0]])))"
   ]
  },
  {
   "cell_type": "code",
   "execution_count": null,
   "id": "ec82947f",
   "metadata": {
    "scrolled": false
   },
   "outputs": [],
   "source": [
    "#prediction with median values when isFraud = 0 \n",
    "print(model.predict(sc.transform([[76214.97,15937,0,126863.76]])))"
   ]
  },
  {
   "cell_type": "code",
   "execution_count": null,
   "id": "d02f3a38",
   "metadata": {},
   "outputs": [],
   "source": [
    "model.save('Finalmodel.h5')\n"
   ]
  },
  {
   "cell_type": "code",
   "execution_count": null,
   "id": "1af6fcc4",
   "metadata": {},
   "outputs": [],
   "source": []
  }
 ],
 "metadata": {
  "kernelspec": {
   "display_name": "Python 3 (ipykernel)",
   "language": "python",
   "name": "python3"
  },
  "language_info": {
   "codemirror_mode": {
    "name": "ipython",
    "version": 3
   },
   "file_extension": ".py",
   "mimetype": "text/x-python",
   "name": "python",
   "nbconvert_exporter": "python",
   "pygments_lexer": "ipython3",
   "version": "3.11.4"
  }
 },
 "nbformat": 4,
 "nbformat_minor": 5
}
